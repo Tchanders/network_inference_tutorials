{
 "cells": [
  {
   "cell_type": "markdown",
   "metadata": {},
   "source": [
    "# Benchmark discretization\n",
    "\n",
    "Time data discretization and MI matrix calculation for datasets with different numbers of cells, and plot the results.\n",
    "\n",
    "## More details\n",
    "Data are generated randomly for this test. The number of calculations is related to the number of _bins_ when the data are discretized, rather than the number of cells. The number of cells affects the time to infer a network only by affecting the number of bins.\n",
    "\n",
    "By default, this script times data discretization using the recommended Bayesian blocks discretization algorithm. The uniform width algorithm, being simpler, is much quicker.\n",
    "\n",
    "Fig 7B varies the number of genes, which affects the MI matrix claculation step. This is further explored in __Benchmark MI matrix__. For timings related to PIDC network inference, see __Benchmark network inference__."
   ]
  },
  {
   "cell_type": "code",
   "execution_count": null,
   "metadata": {},
   "outputs": [],
   "source": [
    "# Include packages\n",
    "\n",
    "using NetworkInference\n",
    "using InformationMeasures\n",
    "using PyPlot\n",
    "\n",
    "include(\"../helper_functions.jl\")"
   ]
  },
  {
   "cell_type": "code",
   "execution_count": null,
   "metadata": {
    "collapsed": true
   },
   "outputs": [],
   "source": [
    "# Customize options (defaults are consistent with Fig. 7B)\n",
    "\n",
    "algorithm = PIDCNetworkInference()\n",
    "discretizer = \"bayesian_blocks\"\n",
    "number_of_genes = 500\n",
    "min_number_of_cells = 1000\n",
    "max_number_of_cells = 5000\n",
    "step = 1000;"
   ]
  },
  {
   "cell_type": "code",
   "execution_count": null,
   "metadata": {},
   "outputs": [],
   "source": [
    "sizes, times = get_times_per_number_of_cells(algorithm, discretizer, number_of_genes, min_number_of_cells, max_number_of_cells, step)"
   ]
  },
  {
   "cell_type": "code",
   "execution_count": null,
   "metadata": {
    "collapsed": true
   },
   "outputs": [],
   "source": [
    "# Plot times\n",
    "\n",
    "plot(sizes, times)\n",
    "plt[:xlabel](\"No.of cells\", fontsize = 14)\n",
    "plt[:ylabel](\"Seconds\", fontsize = 14)\n",
    "plt[:xticks](collect(1000:1000:5000), fontsize = 12)\n",
    "plt[:yticks](collect(0:100:300), fontsize = 12)\n",
    "plt[:title](\"Time to infer MI network\", fontsize = 16)"
   ]
  },
  {
   "cell_type": "code",
   "execution_count": null,
   "metadata": {
    "collapsed": true
   },
   "outputs": [],
   "source": []
  }
 ],
 "metadata": {
  "kernelspec": {
   "display_name": "Julia 0.6.0",
   "language": "julia",
   "name": "julia-0.6"
  },
  "language_info": {
   "file_extension": ".jl",
   "mimetype": "application/julia",
   "name": "julia",
   "version": "0.6.0"
  }
 },
 "nbformat": 4,
 "nbformat_minor": 2
}
