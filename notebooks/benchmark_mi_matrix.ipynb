{
 "cells": [
  {
   "cell_type": "markdown",
   "metadata": {},
   "source": [
    "# Benchmark MI matrix\n",
    "\n",
    "Time calculation of the mutual information matrix for datasets with different numbers of genes, and plot the results.\n",
    "\n",
    "## More details\n",
    "The MI matrix is the symmetrical matrix of the mutual information between each pair of genes in the dataset.\n",
    "\n",
    "Data are generated randomly for this test, for 700 cells, which we consider to be a medium-sized dataset. Since these tests are for comparison with existing software, for which Bayesian blocks discretization may not be available, the data are discretized using uniform width, with 26 bins (≈ √700). Bayesian blocks discretization tends to result in fewer bins, which would make calculating the MI matrix faster.\n",
    "\n",
    "For timings of network inference using PIDC, see __Benchmark network inference__. For timings related to discretization, see __Benchmark discretization__."
   ]
  },
  {
   "cell_type": "code",
   "execution_count": null,
   "metadata": {},
   "outputs": [],
   "source": [
    "# Include packages\n",
    "\n",
    "using NetworkInference\n",
    "using InformationMeasures\n",
    "using PyPlot\n",
    "\n",
    "include(\"../helper_functions.jl\")"
   ]
  },
  {
   "cell_type": "code",
   "execution_count": null,
   "metadata": {
    "collapsed": true
   },
   "outputs": [],
   "source": [
    "# Customize options (defaults are consistent with Fig. 7A)\n",
    "\n",
    "algorithm = MINetworkInference()\n",
    "discretizer = \"uniform_width\"\n",
    "number_of_cells = 700\n",
    "min_number_of_genes = 100\n",
    "max_number_of_genes = 1000\n",
    "step = 100;"
   ]
  },
  {
   "cell_type": "code",
   "execution_count": null,
   "metadata": {},
   "outputs": [],
   "source": [
    "sizes, times = get_times_per_number_of_genes(algorithm, discretizer, number_of_cells, min_number_of_genes, max_number_of_genes, step)"
   ]
  },
  {
   "cell_type": "code",
   "execution_count": null,
   "metadata": {},
   "outputs": [],
   "source": [
    "# Plot times\n",
    "plot(sizes, times)\n",
    "plt[:xlabel](\"No.of genes\", fontsize = 14)\n",
    "plt[:ylabel](\"Seconds\", fontsize = 14)\n",
    "plt[:title](\"Time to infer MI network\", fontsize = 16)"
   ]
  },
  {
   "cell_type": "code",
   "execution_count": null,
   "metadata": {
    "collapsed": true
   },
   "outputs": [],
   "source": []
  }
 ],
 "metadata": {
  "kernelspec": {
   "display_name": "Julia 0.6.0",
   "language": "julia",
   "name": "julia-0.6"
  },
  "language_info": {
   "file_extension": ".jl",
   "mimetype": "application/julia",
   "name": "julia",
   "version": "0.6.0"
  }
 },
 "nbformat": 4,
 "nbformat_minor": 2
}
