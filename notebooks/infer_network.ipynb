{
 "cells": [
  {
   "cell_type": "markdown",
   "metadata": {},
   "source": [
    "# Infer network\n",
    "\n",
    "Infer a network and plot with gene labels.\n",
    "\n",
    "## More details\n",
    "Plot networks inferred from datasets simulated from realistic network structures. Several datasets are available, from different organisms, different numbers of genes in the networks and different numbers of cells in the dataset. To infer a network from a different dataset, make sure the data file is in the same format as the simulated datasets, and change `dataset_name` to the relevant path.\n",
    "\n",
    "For very large datasets (tens of thousands of cells, thousands of genes), network inference may take a long time. Benchmarking scripts are included to indicate how number of cells, number of genes and algorithm affect the time taken to infer a network.\n",
    "\n",
    "The network inference algorithms rank all edges, between every possible pair of genes. In order to progress from a ranked list to a network, a threshold must be set, indicating what percentage of the highest-ranked edges to include."
   ]
  },
  {
   "cell_type": "code",
   "execution_count": null,
   "metadata": {
    "collapsed": true
   },
   "outputs": [],
   "source": [
    "# Include packages\n",
    "\n",
    "using NetworkInference\n",
    "using LightGraphs\n",
    "using GraphPlot"
   ]
  },
  {
   "cell_type": "code",
   "execution_count": null,
   "metadata": {},
   "outputs": [],
   "source": [
    "# Customize the dataset, algorithm and percentage threshold (for plotting)\n",
    "\n",
    "# Use these options for datasets generated from GeneNetWeaver...\n",
    "# 50 or 100\n",
    "number_of_genes = 50\n",
    "# \"ecoli1\", \"ecoli2\", \"yeast1\", \"yeast2\" or \"yeast3\"\n",
    "organism = \"yeast1\"\n",
    "# \"large\", \"medium\", or \"small\"\n",
    "dataset_size = \"large\"\n",
    "\n",
    "# ...Or override dataset_name to point to your data file:\n",
    "dataset_name = string(\"../simulated_datasets/\", number_of_genes, \"_\", organism, \"_\", dataset_size, \".txt\")\n",
    "\n",
    "# Choose an algorithm\n",
    "# PIDCNetworkInference(), PUCNetworkInference(), CLRNetworkInference() or MINetworkInference()\n",
    "algorithm = PIDCNetworkInference()\n",
    "\n",
    "# Keep the top x% highest-scoring edges\n",
    "# 0.0 < threshold < 1.0\n",
    "threshold = 0.15"
   ]
  },
  {
   "cell_type": "code",
   "execution_count": null,
   "metadata": {},
   "outputs": [],
   "source": [
    "# Get the genes and discretize the expression levels\n",
    "\n",
    "@time genes = get_nodes(dataset_name);\n",
    "\n",
    "# Troubleshooting: the default discretizer is \"bayesian_blocks\"\n",
    "# If this doesn't work, try the \"uniform_width\" discretizer:\n",
    "# @time genes = get_nodes(dataset_name, discretizer = \"uniform_width\");"
   ]
  },
  {
   "cell_type": "code",
   "execution_count": null,
   "metadata": {},
   "outputs": [],
   "source": [
    "# Infer the network\n",
    "\n",
    "@time network = InferredNetwork(algorithm, genes);"
   ]
  },
  {
   "cell_type": "code",
   "execution_count": null,
   "metadata": {
    "collapsed": true
   },
   "outputs": [],
   "source": [
    "# Get the adjacency matrix, then make a LightGraphs.SimpleGraphs.SimpleGraph\n",
    "\n",
    "adjacency_matrix, labels_to_ids, ids_to_labels = get_adjacency_matrix(network, threshold)\n",
    "graph = LightGraphs.SimpleGraphs.SimpleGraph(adjacency_matrix)\n",
    "\n",
    "# Get the node labels, in order of index\n",
    "\n",
    "number_of_nodes = size(adjacency_matrix)[1]\n",
    "nodelabels = []\n",
    "for i in 1 : number_of_nodes\n",
    "    push!(nodelabels, ids_to_labels[i])\n",
    "end "
   ]
  },
  {
   "cell_type": "code",
   "execution_count": null,
   "metadata": {},
   "outputs": [],
   "source": [
    "# Plot the network at the given threshold\n",
    "\n",
    "display(gplot(graph, nodelabel = nodelabels))"
   ]
  },
  {
   "cell_type": "code",
   "execution_count": null,
   "metadata": {
    "collapsed": true
   },
   "outputs": [],
   "source": []
  }
 ],
 "metadata": {
  "kernelspec": {
   "display_name": "Julia 0.6.0",
   "language": "julia",
   "name": "julia-0.6"
  },
  "language_info": {
   "file_extension": ".jl",
   "mimetype": "application/julia",
   "name": "julia",
   "version": "0.6.0"
  }
 },
 "nbformat": 4,
 "nbformat_minor": 2
}
