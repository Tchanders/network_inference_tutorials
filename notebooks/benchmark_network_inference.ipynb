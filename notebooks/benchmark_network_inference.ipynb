{
 "cells": [
  {
   "cell_type": "markdown",
   "metadata": {},
   "source": [
    "# Benchmark network inference\n",
    "\n",
    "Time PIDC network inference for datasets with different numbers of genes, and plot the results.\n",
    "\n",
    "## More details\n",
    "Data are generated randomly for this test, since timings depend on the number of calculations, rather than the nature of the data. The number of calculations is related to the number of _bins_ when the data are discretized, rather than the number of cells. The number of cells affects the time to infer a network only by affecting the number of bins.\n",
    "\n",
    "Using the recommended Bayesian blocks discretization algorithm, the number of bins only changes slightly according to the distribution of the data and the number of data points. Using uniform width discretization, the number of bins can be specified in advance, but by default is roughly the square root of the number of data points. Therefore, for datasets with many cells, network inference will take a lot longer if the data are discretized by uniform width with the default number of bins.\n",
    "\n",
    "This script only times the network inference part of the task, not the data discretization (which is only performed once for each gene, so scales differently). For timings related to discretization, see __Benchmark discretization__."
   ]
  },
  {
   "cell_type": "code",
   "execution_count": null,
   "metadata": {},
   "outputs": [],
   "source": [
    "# Uncomment and restart kernel to make use of parallel processes:\n",
    "addprocs(4)"
   ]
  },
  {
   "cell_type": "code",
   "execution_count": null,
   "metadata": {},
   "outputs": [],
   "source": [
    "# Include packages\n",
    "\n",
    "using NetworkInference\n",
    "using InformationMeasures\n",
    "using PyPlot\n",
    "\n",
    "include(\"../helper_functions.jl\")"
   ]
  },
  {
   "cell_type": "code",
   "execution_count": null,
   "metadata": {
    "collapsed": true
   },
   "outputs": [],
   "source": [
    "# Customize options (defaults are consistent with Fig. 7C)\n",
    "\n",
    "algorithm = PIDCNetworkInference()\n",
    "discretizer = \"bayesian_blocks\"\n",
    "number_of_cells = 700\n",
    "min_number_of_genes = 100\n",
    "max_number_of_genes = 1000\n",
    "step = 100;"
   ]
  },
  {
   "cell_type": "code",
   "execution_count": null,
   "metadata": {},
   "outputs": [],
   "source": [
    "# Warning: This may take a while. To speed it up, customize the options.\n",
    "\n",
    "sizes, times = get_times_per_number_of_genes(algorithm, discretizer, number_of_cells, min_number_of_genes, max_number_of_genes, step)"
   ]
  },
  {
   "cell_type": "code",
   "execution_count": null,
   "metadata": {},
   "outputs": [],
   "source": [
    "# Plot times\n",
    "plot(sizes, times)\n",
    "plt[:xlabel](\"No.of genes\", fontsize = 14)\n",
    "plt[:ylabel](\"Seconds\", fontsize = 14)\n",
    "plt[:title](\"Time to infer PIDC network\", fontsize = 16)"
   ]
  },
  {
   "cell_type": "code",
   "execution_count": null,
   "metadata": {
    "collapsed": true
   },
   "outputs": [],
   "source": []
  }
 ],
 "metadata": {
  "kernelspec": {
   "display_name": "Julia 0.6.0",
   "language": "julia",
   "name": "julia-0.6"
  },
  "language_info": {
   "file_extension": ".jl",
   "mimetype": "application/julia",
   "name": "julia",
   "version": "0.6.0"
  }
 },
 "nbformat": 4,
 "nbformat_minor": 2
}
